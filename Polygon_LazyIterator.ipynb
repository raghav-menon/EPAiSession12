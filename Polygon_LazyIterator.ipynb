{
 "cells": [
  {
   "cell_type": "markdown",
   "metadata": {},
   "source": [
    "## Polygon Class"
   ]
  },
  {
   "cell_type": "code",
   "execution_count": 1,
   "metadata": {},
   "outputs": [],
   "source": [
    "# Polygon.py\n",
    "import math\n",
    "\n",
    "class Polygon:   \n",
    "    \"\"\"Implementation of a regular Polygon which takes num_eges and \\\n",
    "        circumradius as input. It can give num_eges, num_vertices,interior \\\n",
    "            angle,edge length,apothem,area,perimeter \\\n",
    "            \"\"\"\n",
    "    def __init__(self, count_edges : int = 3, circumradius : float = 1.0) -> None:\n",
    "        \"\"\" Function to initialize the num of edges and circumradius\"\"\"\n",
    "        \n",
    "        if count_edges < 3:\n",
    "            raise ValueError(\"Polygon must have atleast 3 edges\")\n",
    "        self._count_edges = count_edges\n",
    "        self._circumradius = circumradius\n",
    "        self._interior_angle = None\n",
    "        self._apothem = None\n",
    "        self._side_length = None\n",
    "        self._area = None\n",
    "        self._perimeter = None\n",
    "\n",
    "    @property\n",
    "    def count_edges(self):\n",
    "        \"\"\" Function to return the number of edges\"\"\"\n",
    "        return self._count_edges\n",
    "    \n",
    "    @count_edges.setter\n",
    "    def count_edges(self, value):\n",
    "        \"\"\"Function to set the number of vertices\"\"\"\n",
    "        if(value < 3):\n",
    "            raise ValueError(\" Radius should be greater than 3\")\n",
    "        self._count_edges = value\n",
    "        self._interior_angle = None\n",
    "        self._apothem = None\n",
    "        self._side_length = None\n",
    "        self._area = None\n",
    "        self._perimeter = None\n",
    "\n",
    "    @property\n",
    "    def count_vertices(self):\n",
    "        \"\"\" Function to return the number of vertices. Number of vertices \\\n",
    "            equals number of edges in a regular polygon\"\"\"\n",
    "        return self._count_edges\n",
    "    \n",
    "    @count_vertices.setter\n",
    "    def count_vertices(self, value):\n",
    "        \"\"\"Function to set the number of vertices\"\"\"\n",
    "        if(value < 3):\n",
    "            raise ValueError(\" Radius should be greater than 3\")\n",
    "        self._count_edges = value\n",
    "        self._interior_angle = None\n",
    "        self._apothem = None\n",
    "        self._side_length = None\n",
    "        self._area = None\n",
    "        self._perimeter = None\n",
    "\n",
    "    @property\n",
    "    def circumradius(self):\n",
    "        \"\"\" Function to return Circumradius\"\"\"\n",
    "\n",
    "        return self._circumradius\n",
    "\n",
    "    @circumradius.setter\n",
    "    def circumradius(self, value):\n",
    "        \"\"\" Setter for Circumradius\"\"\"\n",
    "        if(value < 0):\n",
    "            raise ValueError(\" Radius should be greater than 0\")\n",
    "        self._circumradius = value\n",
    "        self._interior_angle = None\n",
    "        self._apothem = None\n",
    "        self._side_length = None\n",
    "        self._area = None\n",
    "        self._perimeter = None\n",
    "\n",
    "    @property\n",
    "    def interior_angle(self):\n",
    "        \"\"\"Function to calculate the interior angle\"\"\"\n",
    "        if self._interior_angle is None:\n",
    "            print(\"Calculating Interior angle\")\n",
    "            self._interior_angle = (self.count_edges - 2) * 180 / self.count_edges\n",
    "        return self._interior_angle\n",
    "\n",
    "    @property\n",
    "    def side_length(self):\n",
    "        \"\"\"Function to calculate the edge length\"\"\"\n",
    "        if self._side_length is None:\n",
    "            print(\"Calculating Side Length\")\n",
    "            self._side_length = 2 * self.circumradius * math.sin(math.pi / self.count_edges)\n",
    "        return self._side_length\n",
    "\n",
    "    @property\n",
    "    def apothem(self):\n",
    "        \"\"\"Function to calculate the apothem\"\"\"\n",
    "        if self._apothem is None:\n",
    "            print(\"Calculating Apothem\")\n",
    "            self._apothem = self.circumradius * math.cos(math.pi / self.count_edges)\n",
    "        return self._apothem\n",
    "\n",
    "    @property\n",
    "    def area(self):\n",
    "        \"\"\"Function to calculate the area\"\"\"\n",
    "        if self._area is None:\n",
    "            print(\"Calculating Area\")\n",
    "            self._area = 1/2 * self.count_edges * self.side_length * self.apothem\n",
    "        return self._area\n",
    "\n",
    "    @property\n",
    "    def perimeter(self):\n",
    "        \"\"\"Function to calculate the perimeter\"\"\"\n",
    "        if self._perimeter is None:\n",
    "            print(\"Calculating Perimeter\")\n",
    "            self._perimeter = self.count_edges * self.side_length\n",
    "        return self._perimeter\n",
    "\n",
    "    def __repr__(self):\n",
    "        \"\"\"Repr Function to return the no of edges and Circumradius\"\"\"\n",
    "        return f\"Polygon(n={self.count_vertices}, R={self.circumradius})\"\n",
    "\n",
    "    def __eq__(self, other):\n",
    "        \"\"\"Equality function to compare whether 2 polygons are equal by \\\n",
    "            comparing the number of edges and circumradius\"\"\"\n",
    "        if isinstance(other, self.__class__):\n",
    "            return self.count_edges == other.count_edges and self.circumradius == other.circumradius\n",
    "        else:\n",
    "            return NotImplemented\n",
    "\n",
    "    def __gt__(self, other):\n",
    "        \"\"\"Greater than function to compare whether which of the 2 polygons \\\n",
    "            is bigger by comparing the number of vertices\"\"\"\n",
    "        if isinstance(other, self.__class__):\n",
    "            return self.count_edges > other.count_edges\n",
    "        else:\n",
    "            return NotImplemented"
   ]
  },
  {
   "cell_type": "markdown",
   "metadata": {},
   "source": [
    "# Polygon Sequence"
   ]
  },
  {
   "cell_type": "code",
   "execution_count": 2,
   "metadata": {},
   "outputs": [],
   "source": [
    "class Polygons:\n",
    "    \"\"\"Implementaion Of Custom Sequence of Polygons which takes largest \\\n",
    "        polygon num of edges and circumradius as input\"\"\"\n",
    "\n",
    "    def __init__(self, m, R):\n",
    "        \"\"\" Function initialising the number of edges and circumradius\"\"\"\n",
    "        if m < 3:\n",
    "            raise ValueError('m must be greater than 3')\n",
    "        self._m = m\n",
    "        self._R = R\n",
    "        self._max_eff = None\n",
    "    \n",
    "    @property\n",
    "    def max_edges(self):\n",
    "        \"\"\" Function to return the number of edges\"\"\"\n",
    "        return self._m\n",
    "    \n",
    "    @max_edges.setter\n",
    "    def max_edges(self, value):\n",
    "        self._m = value\n",
    "        self._max_eff = None\n",
    "    \n",
    "    @property\n",
    "    def circumradius(self):\n",
    "        \"\"\" Function to return the number of edges\"\"\"\n",
    "        return self._R\n",
    "    \n",
    "    @circumradius.setter\n",
    "    def circumradius(self, value):\n",
    "        self._R = value\n",
    "        self._max_eff = None\n",
    "\n",
    "    def __len__(self):\n",
    "        \"\"\"Function returning the length of sequence\"\"\"\n",
    "        return self._m - 2\n",
    "    \n",
    "    def __getitem__(self, pos):\n",
    "        \"\"\"Function to retrieve a particular element in the sequence or a \\\n",
    "            list of elements\"\"\"\n",
    "        if isinstance(pos, int):\n",
    "            if pos < 0:\n",
    "                pos = self._m - 2 + pos\n",
    "            if pos < 0 or pos >= (self._m - 2):\n",
    "                raise IndexError\n",
    "            else:\n",
    "                return self._polygon(pos + 3)\n",
    "        else:\n",
    "            start, stop, step = pos.indices(self._m-2)\n",
    "            rng = range(start, stop, step)\n",
    "            return [self._polygon(i+3) for i in rng]\n",
    "\n",
    "    def __repr__(self):\n",
    "        \"\"\"Repr Function to print regarding the initialized variables\"\"\"\n",
    "        return f'Polygons(m={self._m}, R={self._R})'\n",
    "\n",
    "    def __iter__(self):\n",
    "        \"\"\"Iterator Function--> This function converts this class to an \\\n",
    "            Iterator returning an Iterator object\"\"\"\n",
    "        return self.PolygonIter(self, self.__len__)\n",
    "    \n",
    "    def _polygon(self, num_edges):\n",
    "        \"\"\"Function returning a polygon of particular num of edges and \\\n",
    "            circumradius along with all the properties\"\"\"\n",
    "        return Polygon(num_edges, self._R)\n",
    "\n",
    "    @property\n",
    "    def max_efficiency_polygon(self):\n",
    "        \"\"\"Function returning the max efficiency calculated according to the \\\n",
    "            formulae\"\"\"\n",
    "        if self._max_eff is None:\n",
    "            print(self)\n",
    "            self._max_eff = sorted(self, key=lambda polygon: polygon.area/polygon.perimeter)[-1]        \n",
    "        return self._max_eff\n",
    "    \n",
    "    def __reversed__(self):\n",
    "        return self.PolygonIter(self, self.__len__, reverse=True)\n",
    "\n",
    "    class PolygonIter:\n",
    "        \"\"\"This is an Iterator class which converts the main class into an \\\n",
    "            Iterator\"\"\"\n",
    "\n",
    "        def __init__(self, polyobj, length, reverse=False):\n",
    "            \"\"\"Function initializing the polygon sequence object and \\\n",
    "                index. Index is used to return the next element in the polygon\\\n",
    "                    sequence when used as a iterator\"\"\"\n",
    "            self._polyobj = polyobj\n",
    "            self.reverse = reverse\n",
    "            self._length = length\n",
    "            self._index = 0\n",
    "\n",
    "        def __iter__(self):\n",
    "            \"\"\"Iterator function which makes it an iterator object\"\"\"\n",
    "            return self\n",
    "\n",
    "        def __next__(self):\n",
    "            \"\"\"Next function to return the next element from an polygon \\\n",
    "                sequence iterator object\"\"\"\n",
    "            if self._index >= len(self._polyobj):\n",
    "                raise StopIteration\n",
    "            else:\n",
    "                if self.reverse:\n",
    "                    index = len(self._polyobj) - 1 - self._index\n",
    "                else:\n",
    "                    index = self._index\n",
    "                item = self._polyobj._polygon(index+3)\n",
    "                self._index += 1\n",
    "                return item\n"
   ]
  },
  {
   "cell_type": "markdown",
   "metadata": {},
   "source": [
    "## Testing Polygon"
   ]
  },
  {
   "cell_type": "code",
   "execution_count": 3,
   "metadata": {},
   "outputs": [],
   "source": [
    "def test_polygon():\n",
    "    abs_tol = 0.001\n",
    "    rel_tol = 0.001\n",
    "    \n",
    "    try:\n",
    "        p = Polygon(2, 10)\n",
    "        assert False, ('Creating a Polygon with 2 sides: '\n",
    "                       ' Exception expected, not received')\n",
    "    except ValueError:\n",
    "        pass\n",
    "                       \n",
    "    n = 3\n",
    "    R = 1\n",
    "    p = Polygon(n, R)\n",
    "    assert str(p) == 'Polygon(n=3, R=1)', f'actual: {str(p)}'\n",
    "    assert p.count_vertices == n, (f'actual: {p.count_vertices},'\n",
    "                                   f' expected: {n}')\n",
    "    assert p.count_edges == n, f'actual: {p.count_edges}, expected: {n}'\n",
    "    assert p.circumradius == R, f'actual: {p.circumradius}, expected: {n}'\n",
    "    assert p.interior_angle == 60, (f'actual: {p.interior_angle},'\n",
    "                                    ' expected: 60')\n",
    "    n = 4\n",
    "    R = 1\n",
    "    p = Polygon(n, R)\n",
    "    assert p.interior_angle == 90, (f'actual: {p.interior_angle}, '\n",
    "                                    ' expected: 90')\n",
    "    assert math.isclose(p.area, 2, \n",
    "                        rel_tol=abs_tol, \n",
    "                        abs_tol=abs_tol), (f'actual: {p.area},'\n",
    "                                           ' expected: 2.0')\n",
    "    \n",
    "    assert math.isclose(p.side_length, math.sqrt(2),\n",
    "                       rel_tol=rel_tol,\n",
    "                       abs_tol=abs_tol), (f'actual: {p.side_length},'\n",
    "                                          f' expected: {math.sqrt(2)}')\n",
    "    \n",
    "    assert math.isclose(p.perimeter, 4 * math.sqrt(2),\n",
    "                       rel_tol=rel_tol,\n",
    "                       abs_tol=abs_tol), (f'actual: {p.perimeter},'\n",
    "                                          f' expected: {4 * math.sqrt(2)}')\n",
    "    \n",
    "    assert math.isclose(p.apothem, 0.707,\n",
    "                       rel_tol=rel_tol,\n",
    "                       abs_tol=abs_tol), (f'actual: {p.perimeter},'\n",
    "                                          ' expected: 0.707')\n",
    "    p = Polygon(6, 2)\n",
    "    assert math.isclose(p.side_length, 2,\n",
    "                        rel_tol=rel_tol, abs_tol=abs_tol)\n",
    "    assert math.isclose(p.apothem, 1.73205,\n",
    "                        rel_tol=rel_tol, abs_tol=abs_tol)\n",
    "    assert math.isclose(p.area, 10.3923,\n",
    "                        rel_tol=rel_tol, abs_tol=abs_tol)\n",
    "    assert math.isclose(p.perimeter, 12,\n",
    "                        rel_tol=rel_tol, abs_tol=abs_tol)\n",
    "    assert math.isclose(p.interior_angle, 120,\n",
    "                        rel_tol=rel_tol, abs_tol=abs_tol)\n",
    "    \n",
    "    p = Polygon(12, 3)\n",
    "    assert math.isclose(p.side_length, 1.55291,\n",
    "                        rel_tol=rel_tol, abs_tol=abs_tol)\n",
    "    assert math.isclose(p.apothem, 2.89778,\n",
    "                        rel_tol=rel_tol, abs_tol=abs_tol)\n",
    "    assert math.isclose(p.area, 27,\n",
    "                        rel_tol=rel_tol, abs_tol=abs_tol)\n",
    "    assert math.isclose(p.perimeter, 18.635,\n",
    "                        rel_tol=rel_tol, abs_tol=abs_tol)\n",
    "    assert math.isclose(p.interior_angle, 150,\n",
    "                        rel_tol=rel_tol, abs_tol=abs_tol)\n",
    "    \n",
    "    p1 = Polygon(3, 10)\n",
    "    p2 = Polygon(10, 10)\n",
    "    p3 = Polygon(15, 10)\n",
    "    p4 = Polygon(15, 100)\n",
    "    p5 = Polygon(15, 100)\n",
    "    \n",
    "    assert p2 > p1\n",
    "    assert p2 < p3\n",
    "    assert p3 != p4\n",
    "    assert p1 != p4\n",
    "    assert p4 == p5"
   ]
  },
  {
   "cell_type": "code",
   "execution_count": 4,
   "metadata": {},
   "outputs": [
    {
     "name": "stdout",
     "output_type": "stream",
     "text": [
      "Calculating Interior angle\n",
      "Calculating Interior angle\n",
      "Calculating Area\n",
      "Calculating Side Length\n",
      "Calculating Apothem\n",
      "Calculating Perimeter\n",
      "Calculating Side Length\n",
      "Calculating Apothem\n",
      "Calculating Area\n",
      "Calculating Perimeter\n",
      "Calculating Interior angle\n",
      "Calculating Side Length\n",
      "Calculating Apothem\n",
      "Calculating Area\n",
      "Calculating Perimeter\n",
      "Calculating Interior angle\n"
     ]
    }
   ],
   "source": [
    "test_polygon()"
   ]
  },
  {
   "cell_type": "markdown",
   "metadata": {},
   "source": [
    "## Testing Polygon setter and Lazy Calculations"
   ]
  },
  {
   "cell_type": "code",
   "execution_count": 5,
   "metadata": {},
   "outputs": [],
   "source": [
    "P1 = Polygon()"
   ]
  },
  {
   "cell_type": "code",
   "execution_count": 6,
   "metadata": {},
   "outputs": [],
   "source": [
    "P1.count_edges = 20\n",
    "P1.circumradius = 1"
   ]
  },
  {
   "cell_type": "code",
   "execution_count": 7,
   "metadata": {},
   "outputs": [
    {
     "data": {
      "text/plain": [
       "Polygon(n=20, R=1)"
      ]
     },
     "execution_count": 7,
     "metadata": {},
     "output_type": "execute_result"
    }
   ],
   "source": [
    "P1"
   ]
  },
  {
   "cell_type": "code",
   "execution_count": 8,
   "metadata": {},
   "outputs": [
    {
     "name": "stdout",
     "output_type": "stream",
     "text": [
      "Calculating Apothem\n"
     ]
    },
    {
     "data": {
      "text/plain": [
       "0.9876883405951378"
      ]
     },
     "execution_count": 8,
     "metadata": {},
     "output_type": "execute_result"
    }
   ],
   "source": [
    "## Getting apothem first time hence it will be calculated\n",
    "P1.apothem"
   ]
  },
  {
   "cell_type": "code",
   "execution_count": 9,
   "metadata": {},
   "outputs": [
    {
     "data": {
      "text/plain": [
       "0.9876883405951378"
      ]
     },
     "execution_count": 9,
     "metadata": {},
     "output_type": "execute_result"
    }
   ],
   "source": [
    "## Getting Apothem Second time. Will retrun the value as it is already calculated thus making apothem property lazy property\n",
    "P1.apothem"
   ]
  },
  {
   "cell_type": "code",
   "execution_count": 10,
   "metadata": {},
   "outputs": [
    {
     "name": "stdout",
     "output_type": "stream",
     "text": [
      "Calculating Interior angle\n"
     ]
    },
    {
     "data": {
      "text/plain": [
       "162.0"
      ]
     },
     "execution_count": 10,
     "metadata": {},
     "output_type": "execute_result"
    }
   ],
   "source": [
    "## Getting interior angle first time hence it will be calculated\n",
    "P1.interior_angle"
   ]
  },
  {
   "cell_type": "code",
   "execution_count": 11,
   "metadata": {},
   "outputs": [
    {
     "data": {
      "text/plain": [
       "162.0"
      ]
     },
     "execution_count": 11,
     "metadata": {},
     "output_type": "execute_result"
    }
   ],
   "source": [
    "## Getting interior_angle Second time. Will retrun the value as it is already calculated thus making apothem property lazy property\n",
    "P1.interior_angle"
   ]
  },
  {
   "cell_type": "code",
   "execution_count": 12,
   "metadata": {},
   "outputs": [
    {
     "name": "stdout",
     "output_type": "stream",
     "text": [
      "Calculating Side Length\n"
     ]
    },
    {
     "data": {
      "text/plain": [
       "0.31286893008046174"
      ]
     },
     "execution_count": 12,
     "metadata": {},
     "output_type": "execute_result"
    }
   ],
   "source": [
    "## Getting side_length first time hence it will be calculated\n",
    "P1.side_length"
   ]
  },
  {
   "cell_type": "code",
   "execution_count": 13,
   "metadata": {},
   "outputs": [
    {
     "data": {
      "text/plain": [
       "0.31286893008046174"
      ]
     },
     "execution_count": 13,
     "metadata": {},
     "output_type": "execute_result"
    }
   ],
   "source": [
    "## Getting side_length Second time. Will retrun the value as it is already calculated thus making apothem property lazy property\n",
    "P1.side_length"
   ]
  },
  {
   "cell_type": "code",
   "execution_count": 14,
   "metadata": {},
   "outputs": [
    {
     "name": "stdout",
     "output_type": "stream",
     "text": [
      "Calculating Area\n"
     ]
    },
    {
     "data": {
      "text/plain": [
       "3.090169943749474"
      ]
     },
     "execution_count": 14,
     "metadata": {},
     "output_type": "execute_result"
    }
   ],
   "source": [
    "## Getting area first time hence it will be calculated\n",
    "P1.area"
   ]
  },
  {
   "cell_type": "code",
   "execution_count": 15,
   "metadata": {},
   "outputs": [
    {
     "data": {
      "text/plain": [
       "3.090169943749474"
      ]
     },
     "execution_count": 15,
     "metadata": {},
     "output_type": "execute_result"
    }
   ],
   "source": [
    "## Getting area Second time. Will retrun the value as it is already calculated thus making apothem property lazy property\n",
    "P1.area"
   ]
  },
  {
   "cell_type": "code",
   "execution_count": 16,
   "metadata": {},
   "outputs": [
    {
     "name": "stdout",
     "output_type": "stream",
     "text": [
      "Calculating Perimeter\n"
     ]
    },
    {
     "data": {
      "text/plain": [
       "6.2573786016092345"
      ]
     },
     "execution_count": 16,
     "metadata": {},
     "output_type": "execute_result"
    }
   ],
   "source": [
    "## Getting perimeter first time hence it will be calculated\n",
    "P1.perimeter"
   ]
  },
  {
   "cell_type": "code",
   "execution_count": 17,
   "metadata": {},
   "outputs": [
    {
     "data": {
      "text/plain": [
       "6.2573786016092345"
      ]
     },
     "execution_count": 17,
     "metadata": {},
     "output_type": "execute_result"
    }
   ],
   "source": [
    "## Getting perimeter Second time. Will retrun the value as it is already calculated thus making apothem property lazy property\n",
    "P1.perimeter"
   ]
  },
  {
   "cell_type": "code",
   "execution_count": 18,
   "metadata": {},
   "outputs": [
    {
     "name": "stdout",
     "output_type": "stream",
     "text": [
      "Calculating Apothem\n"
     ]
    },
    {
     "data": {
      "text/plain": [
       "1.902113032590307"
      ]
     },
     "execution_count": 18,
     "metadata": {},
     "output_type": "execute_result"
    }
   ],
   "source": [
    "## Same for Polygon P2 initialized as Polygon object\n",
    "P2 = Polygon(10,2)\n",
    "P2.apothem"
   ]
  },
  {
   "cell_type": "code",
   "execution_count": 19,
   "metadata": {},
   "outputs": [
    {
     "data": {
      "text/plain": [
       "1.902113032590307"
      ]
     },
     "execution_count": 19,
     "metadata": {},
     "output_type": "execute_result"
    }
   ],
   "source": [
    "## Getting apothem Second time. Will retrun the value as it is already calculated thus making apothem property lazy property\n",
    "P2.apothem"
   ]
  },
  {
   "cell_type": "code",
   "execution_count": 20,
   "metadata": {},
   "outputs": [
    {
     "name": "stdout",
     "output_type": "stream",
     "text": [
      "Calculating Interior angle\n"
     ]
    },
    {
     "data": {
      "text/plain": [
       "144.0"
      ]
     },
     "execution_count": 20,
     "metadata": {},
     "output_type": "execute_result"
    }
   ],
   "source": [
    "## Getting interior angle first time hence it will be calculated\n",
    "P2.interior_angle"
   ]
  },
  {
   "cell_type": "code",
   "execution_count": 21,
   "metadata": {},
   "outputs": [
    {
     "data": {
      "text/plain": [
       "144.0"
      ]
     },
     "execution_count": 21,
     "metadata": {},
     "output_type": "execute_result"
    }
   ],
   "source": [
    "## Getting interior angle Second time. Will retrun the value as it is already calculated thus making apothem property lazy property\n",
    "P2.interior_angle"
   ]
  },
  {
   "cell_type": "code",
   "execution_count": 22,
   "metadata": {},
   "outputs": [
    {
     "name": "stdout",
     "output_type": "stream",
     "text": [
      "Calculating Side Length\n"
     ]
    },
    {
     "data": {
      "text/plain": [
       "1.2360679774997896"
      ]
     },
     "execution_count": 22,
     "metadata": {},
     "output_type": "execute_result"
    }
   ],
   "source": [
    "## Getting side_length first time hence it will be calculated\n",
    "P2.side_length"
   ]
  },
  {
   "cell_type": "code",
   "execution_count": 23,
   "metadata": {},
   "outputs": [
    {
     "data": {
      "text/plain": [
       "1.2360679774997896"
      ]
     },
     "execution_count": 23,
     "metadata": {},
     "output_type": "execute_result"
    }
   ],
   "source": [
    "## Getting side_length Second time. Will retrun the value as it is already calculated thus making apothem property lazy property\n",
    "P2.side_length"
   ]
  },
  {
   "cell_type": "code",
   "execution_count": 24,
   "metadata": {},
   "outputs": [
    {
     "name": "stdout",
     "output_type": "stream",
     "text": [
      "Calculating Area\n"
     ]
    },
    {
     "data": {
      "text/plain": [
       "11.755705045849462"
      ]
     },
     "execution_count": 24,
     "metadata": {},
     "output_type": "execute_result"
    }
   ],
   "source": [
    "## Getting area first time hence it will be calculated\n",
    "P2.area"
   ]
  },
  {
   "cell_type": "code",
   "execution_count": 25,
   "metadata": {},
   "outputs": [
    {
     "data": {
      "text/plain": [
       "11.755705045849462"
      ]
     },
     "execution_count": 25,
     "metadata": {},
     "output_type": "execute_result"
    }
   ],
   "source": [
    "## Getting area Second time. Will retrun the value as it is already calculated thus making apothem property lazy property\n",
    "P2.area"
   ]
  },
  {
   "cell_type": "code",
   "execution_count": 26,
   "metadata": {},
   "outputs": [
    {
     "name": "stdout",
     "output_type": "stream",
     "text": [
      "Calculating Perimeter\n"
     ]
    },
    {
     "data": {
      "text/plain": [
       "12.360679774997896"
      ]
     },
     "execution_count": 26,
     "metadata": {},
     "output_type": "execute_result"
    }
   ],
   "source": [
    "## Getting perimeter first time hence it will be calculated\n",
    "P2.perimeter"
   ]
  },
  {
   "cell_type": "code",
   "execution_count": 27,
   "metadata": {},
   "outputs": [
    {
     "data": {
      "text/plain": [
       "12.360679774997896"
      ]
     },
     "execution_count": 27,
     "metadata": {},
     "output_type": "execute_result"
    }
   ],
   "source": [
    "## Getting perimeter Second time. Will retrun the value as it is already calculated thus making apothem property lazy property\n",
    "P2.perimeter"
   ]
  },
  {
   "cell_type": "code",
   "execution_count": 28,
   "metadata": {},
   "outputs": [],
   "source": [
    "## Initializing a new value for circumradius using setter\n",
    "P2.circumradius = 3"
   ]
  },
  {
   "cell_type": "code",
   "execution_count": 29,
   "metadata": {},
   "outputs": [
    {
     "name": "stdout",
     "output_type": "stream",
     "text": [
      "Calculating Interior angle\n",
      "Calculating Side Length\n",
      "Calculating Apothem\n",
      "Calculating Area\n",
      "Calculating Perimeter\n"
     ]
    },
    {
     "data": {
      "text/plain": [
       "(144.0,\n",
       " 1.8541019662496843,\n",
       " 2.8531695488854605,\n",
       " 26.450336353161287,\n",
       " 18.541019662496844)"
      ]
     },
     "execution_count": 29,
     "metadata": {},
     "output_type": "execute_result"
    }
   ],
   "source": [
    "## Calculation of all properties after setting. We can see that it is calculated when called\n",
    "P2.interior_angle, P2.side_length, P2.apothem, P2.area,P2.perimeter"
   ]
  },
  {
   "cell_type": "code",
   "execution_count": 30,
   "metadata": {},
   "outputs": [
    {
     "data": {
      "text/plain": [
       "(144.0,\n",
       " 1.8541019662496843,\n",
       " 2.8531695488854605,\n",
       " 26.450336353161287,\n",
       " 18.541019662496844)"
      ]
     },
     "execution_count": 30,
     "metadata": {},
     "output_type": "execute_result"
    }
   ],
   "source": [
    "## Calculating all propeties second time. Prints out the properties already calculated\n",
    "P2.interior_angle, P2.side_length, P2.apothem, P2.area,P2.perimeter"
   ]
  },
  {
   "cell_type": "markdown",
   "metadata": {},
   "source": [
    "## Polygon Sequence"
   ]
  },
  {
   "cell_type": "code",
   "execution_count": 31,
   "metadata": {},
   "outputs": [],
   "source": [
    "# Initializing a polygon sequence object\n",
    "PS1 = Polygons(25,1)"
   ]
  },
  {
   "cell_type": "code",
   "execution_count": 32,
   "metadata": {},
   "outputs": [],
   "source": [
    "## Intitializing an iterator\n",
    "S = iter(PS1)"
   ]
  },
  {
   "cell_type": "code",
   "execution_count": 33,
   "metadata": {},
   "outputs": [
    {
     "data": {
      "text/plain": [
       "True"
      ]
     },
     "execution_count": 33,
     "metadata": {},
     "output_type": "execute_result"
    }
   ],
   "source": [
    "## Checking whether __iter__ is present in the object directory\n",
    "'__iter__' in dir(S)"
   ]
  },
  {
   "cell_type": "code",
   "execution_count": 34,
   "metadata": {},
   "outputs": [
    {
     "data": {
      "text/plain": [
       "True"
      ]
     },
     "execution_count": 34,
     "metadata": {},
     "output_type": "execute_result"
    }
   ],
   "source": [
    "## Checking whether __next__ is present in the object directory\n",
    "'__next__' in dir(S)"
   ]
  },
  {
   "cell_type": "code",
   "execution_count": 35,
   "metadata": {},
   "outputs": [
    {
     "data": {
      "text/plain": [
       "[Polygon(n=3, R=1),\n",
       " Polygon(n=4, R=1),\n",
       " Polygon(n=5, R=1),\n",
       " Polygon(n=6, R=1),\n",
       " Polygon(n=7, R=1),\n",
       " Polygon(n=8, R=1),\n",
       " Polygon(n=9, R=1),\n",
       " Polygon(n=10, R=1),\n",
       " Polygon(n=11, R=1),\n",
       " Polygon(n=12, R=1),\n",
       " Polygon(n=13, R=1),\n",
       " Polygon(n=14, R=1),\n",
       " Polygon(n=15, R=1),\n",
       " Polygon(n=16, R=1),\n",
       " Polygon(n=17, R=1),\n",
       " Polygon(n=18, R=1),\n",
       " Polygon(n=19, R=1),\n",
       " Polygon(n=20, R=1),\n",
       " Polygon(n=21, R=1),\n",
       " Polygon(n=22, R=1),\n",
       " Polygon(n=23, R=1),\n",
       " Polygon(n=24, R=1),\n",
       " Polygon(n=25, R=1)]"
      ]
     },
     "execution_count": 35,
     "metadata": {},
     "output_type": "execute_result"
    }
   ],
   "source": [
    "## Checking the iterator object using a for loop\n",
    "[poly for poly in S]"
   ]
  },
  {
   "cell_type": "code",
   "execution_count": 36,
   "metadata": {},
   "outputs": [
    {
     "name": "stdout",
     "output_type": "stream",
     "text": [
      "Polygon(n=3, R=1)\n"
     ]
    }
   ],
   "source": [
    "## Checking whether accessible using next. The polygon object in the sequence is initialized only when next is called. The other properties will \n",
    "## be calculated when the individual object properties are called and hence lazy evaluation\n",
    "S = iter(PS1)\n",
    "print(next(S))"
   ]
  },
  {
   "cell_type": "code",
   "execution_count": 37,
   "metadata": {},
   "outputs": [
    {
     "name": "stdout",
     "output_type": "stream",
     "text": [
      "Polygon(n=4, R=1)\n"
     ]
    }
   ],
   "source": [
    "## Printing the next value again\n",
    "print(next(S))"
   ]
  },
  {
   "cell_type": "code",
   "execution_count": 38,
   "metadata": {},
   "outputs": [
    {
     "data": {
      "text/plain": [
       "[Polygon(n=5, R=1),\n",
       " Polygon(n=6, R=1),\n",
       " Polygon(n=7, R=1),\n",
       " Polygon(n=8, R=1),\n",
       " Polygon(n=9, R=1),\n",
       " Polygon(n=10, R=1),\n",
       " Polygon(n=11, R=1),\n",
       " Polygon(n=12, R=1),\n",
       " Polygon(n=13, R=1),\n",
       " Polygon(n=14, R=1),\n",
       " Polygon(n=15, R=1),\n",
       " Polygon(n=16, R=1),\n",
       " Polygon(n=17, R=1),\n",
       " Polygon(n=18, R=1),\n",
       " Polygon(n=19, R=1),\n",
       " Polygon(n=20, R=1),\n",
       " Polygon(n=21, R=1),\n",
       " Polygon(n=22, R=1),\n",
       " Polygon(n=23, R=1),\n",
       " Polygon(n=24, R=1),\n",
       " Polygon(n=25, R=1)]"
      ]
     },
     "execution_count": 38,
     "metadata": {},
     "output_type": "execute_result"
    }
   ],
   "source": [
    "## S is an iterator and the first two elements are exhausted printed in cells above. \n",
    "## Hence only the remaining elements are printed\n",
    "list(S)"
   ]
  },
  {
   "cell_type": "code",
   "execution_count": 39,
   "metadata": {},
   "outputs": [
    {
     "name": "stdout",
     "output_type": "stream",
     "text": [
      "Polygons(m=25, R=1)\n",
      "Calculating Area\n",
      "Calculating Side Length\n",
      "Calculating Apothem\n",
      "Calculating Perimeter\n",
      "Calculating Area\n",
      "Calculating Side Length\n",
      "Calculating Apothem\n",
      "Calculating Perimeter\n",
      "Calculating Area\n",
      "Calculating Side Length\n",
      "Calculating Apothem\n",
      "Calculating Perimeter\n",
      "Calculating Area\n",
      "Calculating Side Length\n",
      "Calculating Apothem\n",
      "Calculating Perimeter\n",
      "Calculating Area\n",
      "Calculating Side Length\n",
      "Calculating Apothem\n",
      "Calculating Perimeter\n",
      "Calculating Area\n",
      "Calculating Side Length\n",
      "Calculating Apothem\n",
      "Calculating Perimeter\n",
      "Calculating Area\n",
      "Calculating Side Length\n",
      "Calculating Apothem\n",
      "Calculating Perimeter\n",
      "Calculating Area\n",
      "Calculating Side Length\n",
      "Calculating Apothem\n",
      "Calculating Perimeter\n",
      "Calculating Area\n",
      "Calculating Side Length\n",
      "Calculating Apothem\n",
      "Calculating Perimeter\n",
      "Calculating Area\n",
      "Calculating Side Length\n",
      "Calculating Apothem\n",
      "Calculating Perimeter\n",
      "Calculating Area\n",
      "Calculating Side Length\n",
      "Calculating Apothem\n",
      "Calculating Perimeter\n",
      "Calculating Area\n",
      "Calculating Side Length\n",
      "Calculating Apothem\n",
      "Calculating Perimeter\n",
      "Calculating Area\n",
      "Calculating Side Length\n",
      "Calculating Apothem\n",
      "Calculating Perimeter\n",
      "Calculating Area\n",
      "Calculating Side Length\n",
      "Calculating Apothem\n",
      "Calculating Perimeter\n",
      "Calculating Area\n",
      "Calculating Side Length\n",
      "Calculating Apothem\n",
      "Calculating Perimeter\n",
      "Calculating Area\n",
      "Calculating Side Length\n",
      "Calculating Apothem\n",
      "Calculating Perimeter\n",
      "Calculating Area\n",
      "Calculating Side Length\n",
      "Calculating Apothem\n",
      "Calculating Perimeter\n",
      "Calculating Area\n",
      "Calculating Side Length\n",
      "Calculating Apothem\n",
      "Calculating Perimeter\n",
      "Calculating Area\n",
      "Calculating Side Length\n",
      "Calculating Apothem\n",
      "Calculating Perimeter\n",
      "Calculating Area\n",
      "Calculating Side Length\n",
      "Calculating Apothem\n",
      "Calculating Perimeter\n",
      "Calculating Area\n",
      "Calculating Side Length\n",
      "Calculating Apothem\n",
      "Calculating Perimeter\n",
      "Calculating Area\n",
      "Calculating Side Length\n",
      "Calculating Apothem\n",
      "Calculating Perimeter\n",
      "Calculating Area\n",
      "Calculating Side Length\n",
      "Calculating Apothem\n",
      "Calculating Perimeter\n"
     ]
    },
    {
     "data": {
      "text/plain": [
       "Polygon(n=25, R=1)"
      ]
     },
     "execution_count": 39,
     "metadata": {},
     "output_type": "execute_result"
    }
   ],
   "source": [
    "# Maximum Efficiency polygon called for the first time and hence every property has to be calculated\n",
    "PS1.max_efficiency_polygon"
   ]
  },
  {
   "cell_type": "code",
   "execution_count": 40,
   "metadata": {},
   "outputs": [
    {
     "data": {
      "text/plain": [
       "Polygon(n=25, R=1)"
      ]
     },
     "execution_count": 40,
     "metadata": {},
     "output_type": "execute_result"
    }
   ],
   "source": [
    "# Now the maximum efficiency polygon is called second time and hence already stored value is printed in the output\n",
    "PS1.max_efficiency_polygon"
   ]
  },
  {
   "cell_type": "code",
   "execution_count": 41,
   "metadata": {},
   "outputs": [],
   "source": [
    "# Iterator Object for PS1\n",
    "S = iter(PS1)"
   ]
  },
  {
   "cell_type": "code",
   "execution_count": 42,
   "metadata": {},
   "outputs": [
    {
     "data": {
      "text/plain": [
       "[Polygon(n=3, R=1),\n",
       " Polygon(n=4, R=1),\n",
       " Polygon(n=5, R=1),\n",
       " Polygon(n=6, R=1),\n",
       " Polygon(n=7, R=1),\n",
       " Polygon(n=8, R=1),\n",
       " Polygon(n=9, R=1),\n",
       " Polygon(n=10, R=1),\n",
       " Polygon(n=11, R=1),\n",
       " Polygon(n=12, R=1),\n",
       " Polygon(n=13, R=1),\n",
       " Polygon(n=14, R=1),\n",
       " Polygon(n=15, R=1),\n",
       " Polygon(n=16, R=1),\n",
       " Polygon(n=17, R=1),\n",
       " Polygon(n=18, R=1),\n",
       " Polygon(n=19, R=1),\n",
       " Polygon(n=20, R=1),\n",
       " Polygon(n=21, R=1),\n",
       " Polygon(n=22, R=1),\n",
       " Polygon(n=23, R=1),\n",
       " Polygon(n=24, R=1),\n",
       " Polygon(n=25, R=1)]"
      ]
     },
     "execution_count": 42,
     "metadata": {},
     "output_type": "execute_result"
    }
   ],
   "source": [
    "# Sorting PS1\n",
    "sorted(S)"
   ]
  },
  {
   "cell_type": "code",
   "execution_count": 43,
   "metadata": {},
   "outputs": [
    {
     "data": {
      "text/plain": [
       "[Polygon(n=25, R=1),\n",
       " Polygon(n=24, R=1),\n",
       " Polygon(n=23, R=1),\n",
       " Polygon(n=22, R=1),\n",
       " Polygon(n=21, R=1),\n",
       " Polygon(n=20, R=1),\n",
       " Polygon(n=19, R=1),\n",
       " Polygon(n=18, R=1),\n",
       " Polygon(n=17, R=1),\n",
       " Polygon(n=16, R=1),\n",
       " Polygon(n=15, R=1),\n",
       " Polygon(n=14, R=1),\n",
       " Polygon(n=13, R=1),\n",
       " Polygon(n=12, R=1),\n",
       " Polygon(n=11, R=1),\n",
       " Polygon(n=10, R=1),\n",
       " Polygon(n=9, R=1),\n",
       " Polygon(n=8, R=1),\n",
       " Polygon(n=7, R=1),\n",
       " Polygon(n=6, R=1),\n",
       " Polygon(n=5, R=1),\n",
       " Polygon(n=4, R=1),\n",
       " Polygon(n=3, R=1)]"
      ]
     },
     "execution_count": 43,
     "metadata": {},
     "output_type": "execute_result"
    }
   ],
   "source": [
    "# Reversing PS1\n",
    "S1 = reversed(PS1)\n",
    "list(S1)"
   ]
  },
  {
   "cell_type": "code",
   "execution_count": 44,
   "metadata": {},
   "outputs": [
    {
     "data": {
      "text/plain": [
       "[Polygon(n=13, R=1),\n",
       " Polygon(n=14, R=1),\n",
       " Polygon(n=15, R=1),\n",
       " Polygon(n=16, R=1),\n",
       " Polygon(n=17, R=1)]"
      ]
     },
     "execution_count": 44,
     "metadata": {},
     "output_type": "execute_result"
    }
   ],
   "source": [
    "# Accessing a slice from the sequence. The required elements are calculated when needed and hence lazy evaluation\n",
    "PS1[10:15]"
   ]
  },
  {
   "cell_type": "code",
   "execution_count": 45,
   "metadata": {},
   "outputs": [
    {
     "data": {
      "text/plain": [
       "[Polygon(n=25, R=1),\n",
       " Polygon(n=24, R=1),\n",
       " Polygon(n=23, R=1),\n",
       " Polygon(n=22, R=1),\n",
       " Polygon(n=21, R=1),\n",
       " Polygon(n=20, R=1),\n",
       " Polygon(n=19, R=1),\n",
       " Polygon(n=18, R=1),\n",
       " Polygon(n=17, R=1),\n",
       " Polygon(n=16, R=1),\n",
       " Polygon(n=15, R=1),\n",
       " Polygon(n=14, R=1),\n",
       " Polygon(n=13, R=1),\n",
       " Polygon(n=12, R=1),\n",
       " Polygon(n=11, R=1),\n",
       " Polygon(n=10, R=1),\n",
       " Polygon(n=9, R=1),\n",
       " Polygon(n=8, R=1),\n",
       " Polygon(n=7, R=1),\n",
       " Polygon(n=6, R=1),\n",
       " Polygon(n=5, R=1),\n",
       " Polygon(n=4, R=1),\n",
       " Polygon(n=3, R=1)]"
      ]
     },
     "execution_count": 45,
     "metadata": {},
     "output_type": "execute_result"
    }
   ],
   "source": [
    "# Reversing using slices. Even here evaluation of elements are done lazily\n",
    "PS1[::-1]"
   ]
  },
  {
   "cell_type": "code",
   "execution_count": null,
   "metadata": {},
   "outputs": [],
   "source": []
  }
 ],
 "metadata": {
  "kernelspec": {
   "display_name": "Python 3",
   "language": "python",
   "name": "python3"
  },
  "language_info": {
   "codemirror_mode": {
    "name": "ipython",
    "version": 3
   },
   "file_extension": ".py",
   "mimetype": "text/x-python",
   "name": "python",
   "nbconvert_exporter": "python",
   "pygments_lexer": "ipython3",
   "version": "3.8.5"
  }
 },
 "nbformat": 4,
 "nbformat_minor": 4
}
